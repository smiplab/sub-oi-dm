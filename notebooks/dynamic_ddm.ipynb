{
 "cells": [
  {
   "cell_type": "code",
   "execution_count": 20,
   "metadata": {},
   "outputs": [],
   "source": [
    "import numpy as np\n",
    "import bayesflow as bf\n",
    "import tensorflow as tf\n",
    "import sys"
   ]
  },
  {
   "cell_type": "code",
   "execution_count": 21,
   "metadata": {},
   "outputs": [],
   "source": [
    "sys.path.append(\"../src\")\n",
    "from observation_model import batched_dynamic_ddm\n",
    "from priors import rwddm_local_prior, rwddm_hyper_prior, rwddm_shared_prior\n",
    "from helpers import scale_z, unscale_z"
   ]
  },
  {
   "cell_type": "code",
   "execution_count": 22,
   "metadata": {},
   "outputs": [
    {
     "ename": "IndexError",
     "evalue": "list index out of range",
     "output_type": "error",
     "traceback": [
      "\u001b[0;31m---------------------------------------------------------------------------\u001b[0m",
      "\u001b[0;31mIndexError\u001b[0m                                Traceback (most recent call last)",
      "Cell \u001b[0;32mIn[22], line 3\u001b[0m\n\u001b[1;32m      1\u001b[0m \u001b[39m# gpu setting and checking\u001b[39;00m\n\u001b[1;32m      2\u001b[0m physical_devices \u001b[39m=\u001b[39m tf\u001b[39m.\u001b[39mconfig\u001b[39m.\u001b[39mlist_physical_devices(\u001b[39m'\u001b[39m\u001b[39mGPU\u001b[39m\u001b[39m'\u001b[39m)\n\u001b[0;32m----> 3\u001b[0m tf\u001b[39m.\u001b[39mconfig\u001b[39m.\u001b[39mexperimental\u001b[39m.\u001b[39mset_memory_growth(physical_devices[\u001b[39m0\u001b[39;49m], enable\u001b[39m=\u001b[39m\u001b[39mTrue\u001b[39;00m)\n\u001b[1;32m      4\u001b[0m \u001b[39mprint\u001b[39m(tf\u001b[39m.\u001b[39mconfig\u001b[39m.\u001b[39mlist_physical_devices(\u001b[39m'\u001b[39m\u001b[39mGPU\u001b[39m\u001b[39m'\u001b[39m))\n",
      "\u001b[0;31mIndexError\u001b[0m: list index out of range"
     ]
    }
   ],
   "source": [
    "# gpu setting and checking\n",
    "physical_devices = tf.config.list_physical_devices('GPU')\n",
    "tf.config.experimental.set_memory_growth(physical_devices[0], enable=True)\n",
    "print(tf.config.list_physical_devices('GPU'))"
   ]
  },
  {
   "attachments": {},
   "cell_type": "markdown",
   "metadata": {},
   "source": [
    "# Generative Model"
   ]
  },
  {
   "attachments": {},
   "cell_type": "markdown",
   "metadata": {},
   "source": [
    "## Prior"
   ]
  },
  {
   "cell_type": "code",
   "execution_count": 14,
   "metadata": {},
   "outputs": [],
   "source": [
    "prior = bf.simulation.TwoLevelPrior(\n",
    "    hyper_prior_fun=rwddm_hyper_prior,\n",
    "    shared_prior_fun=rwddm_shared_prior,\n",
    "    local_prior_fun=rwddm_local_prior,\n",
    ")"
   ]
  },
  {
   "attachments": {},
   "cell_type": "markdown",
   "metadata": {},
   "source": [
    "## Simulator"
   ]
  },
  {
   "cell_type": "code",
   "execution_count": 16,
   "metadata": {},
   "outputs": [],
   "source": [
    "simulator = bf.simulation.Simulator(batch_simulator_fun=batched_dynamic_ddm)"
   ]
  },
  {
   "cell_type": "code",
   "execution_count": 17,
   "metadata": {},
   "outputs": [
    {
     "name": "stderr",
     "output_type": "stream",
     "text": [
      "INFO:root:Performing 2 pilot runs with the anonymous model...\n",
      "INFO:root:Shape of parameter batch after 2 pilot simulations: (batch_size = 2, 150, 2)\n",
      "INFO:root:Shape of simulation batch after 2 pilot simulations: (batch_size = 2, 150, 1)\n",
      "INFO:root:Shape of hyper_prior_draws batch after 2 pilot simulations: (batch_size = 2, 2)\n",
      "INFO:root:Shape of local_prior_draws batch after 2 pilot simulations: (batch_size = 2, 150, 2)\n",
      "INFO:root:Shape of shared_prior_draws batch after 2 pilot simulations: (batch_size = 2, 1)\n",
      "INFO:root:No optional simulation batchable context provided.\n",
      "INFO:root:No optional simulation non-batchable context provided.\n",
      "INFO:root:No optional prior batchable context provided.\n",
      "INFO:root:No optional prior non-batchable context provided.\n"
     ]
    }
   ],
   "source": [
    "generative_model = bf.simulation.TwoLevelGenerativeModel(prior, simulator)"
   ]
  },
  {
   "attachments": {},
   "cell_type": "markdown",
   "metadata": {},
   "source": [
    "# Amortizer"
   ]
  },
  {
   "attachments": {},
   "cell_type": "markdown",
   "metadata": {},
   "source": [
    "## Summary Network"
   ]
  },
  {
   "cell_type": "code",
   "execution_count": 18,
   "metadata": {},
   "outputs": [],
   "source": [
    "summary_network = bf.networks.HierarchicalNetwork([\n",
    "    tf.keras.Sequential([\n",
    "        tf.keras.layers.LSTM(512, return_sequences=True),\n",
    "        tf.keras.layers.LSTM(128, return_sequences=True),\n",
    "    ]),\n",
    "    bf.networks.TimeSeriesTransformer(128, template_dim=128, summary_dim=32)\n",
    "])"
   ]
  },
  {
   "attachments": {},
   "cell_type": "markdown",
   "metadata": {},
   "source": [
    "## Inference Network"
   ]
  },
  {
   "cell_type": "code",
   "execution_count": null,
   "metadata": {},
   "outputs": [],
   "source": [
    "local_net = bf.amortizers.AmortizedPosterior(\n",
    "    bf.networks.InvertibleNetwork(num_params=2,\n",
    "                                  num_coupling_layers=8,\n",
    "                                  coupling_design='interleaved'\n",
    "                                  ))\n",
    "\n",
    "global_net = bf.amortizers.AmortizedPosterior(\n",
    "    bf.networks.InvertibleNetwork(num_params=2+1,\n",
    "                                  num_coupling_layers=6,\n",
    "                                  coupling_design='interleaved'\n",
    "                                  ))"
   ]
  },
  {
   "cell_type": "code",
   "execution_count": null,
   "metadata": {},
   "outputs": [],
   "source": [
    "amortizer = bf.amortizers.TwoLevelAmortizedPosterior(local_net, global_net, summary_network)"
   ]
  },
  {
   "attachments": {},
   "cell_type": "markdown",
   "metadata": {},
   "source": [
    "# Configurator"
   ]
  },
  {
   "cell_type": "code",
   "execution_count": null,
   "metadata": {},
   "outputs": [],
   "source": [
    "def configure(forward_dict):\n",
    "    # standardize local and hyper parameters\n",
    "    local_prior_draws_z = scale_z(forward_dict['local_prior_draws'],\n",
    "                                  LOCAL_PARAM_MEANS, LOCAL_PARAM_STDS)\n",
    "    shared_prior_draws_z = scale_z(forward_dict['shared_prior_draws'],\n",
    "                                   SHARED_PRIOR_MEAN, SHARED_PRIOR_STD)\n",
    "    hyper_prior_draws_z = scale_z(forward_dict['hyper_prior_draws'],\n",
    "                                  HYPER_PARAM_MEANS, HYPER_PARAM_STDS)\n",
    "\n",
    "    output_dict = {\n",
    "        'summary_conditions': forward_dict['sim_data'].astype(np.float32),\n",
    "        'hyper_parameters': hyper_prior_draws_z.astype(np.float32),\n",
    "        'local_parameters': local_prior_draws_z.astype(np.float32),\n",
    "        'shared_parameters': shared_prior_draws_z.astype(np.float32)\n",
    "    }\n",
    "    return output_dict"
   ]
  },
  {
   "attachments": {},
   "cell_type": "markdown",
   "metadata": {},
   "source": [
    "# Training"
   ]
  },
  {
   "cell_type": "code",
   "execution_count": null,
   "metadata": {},
   "outputs": [],
   "source": [
    "trainer = bf.trainers.Trainer(\n",
    "    generative_model=generative_model,\n",
    "    configurator=configure,\n",
    "    amortizer=amortizer\n",
    "    )"
   ]
  },
  {
   "cell_type": "code",
   "execution_count": null,
   "metadata": {},
   "outputs": [],
   "source": [
    "h = trainer.train_online(\n",
    "    epochs=50,\n",
    "    iterations_per_epoch=1000,\n",
    "    batch_size=32,\n",
    "    checkpoint_path='checkpoints/rwddm_shared_ndt'\n",
    "    )"
   ]
  },
  {
   "cell_type": "code",
   "execution_count": null,
   "metadata": {},
   "outputs": [],
   "source": [
    "l = bf.diagnostics.plot_losses(train_losses=trainer.loss_history.get_plottable())"
   ]
  }
 ],
 "metadata": {
  "kernelspec": {
   "display_name": "bfPower",
   "language": "python",
   "name": "python3"
  },
  "language_info": {
   "codemirror_mode": {
    "name": "ipython",
    "version": 3
   },
   "file_extension": ".py",
   "mimetype": "text/x-python",
   "name": "python",
   "nbconvert_exporter": "python",
   "pygments_lexer": "ipython3",
   "version": "3.10.10"
  },
  "orig_nbformat": 4
 },
 "nbformat": 4,
 "nbformat_minor": 2
}
